{
 "cells": [
  {
   "cell_type": "code",
   "execution_count": 1,
   "metadata": {},
   "outputs": [],
   "source": [
    "import matplotlib.pyplot as plt\n",
    "import pandas as pd\n",
    "import pylab as pl\n",
    "import numpy as np\n",
    "import seaborn as sns\n",
    "%matplotlib inline"
   ]
  },
  {
   "cell_type": "code",
   "execution_count": 14,
   "metadata": {},
   "outputs": [],
   "source": [
    "df = pd.read_csv(\"AV_LP_train.csv\")"
   ]
  },
  {
   "cell_type": "code",
   "execution_count": 18,
   "metadata": {},
   "outputs": [],
   "source": [
    "def df_feature_eng(df):\n",
    "    #    Handle NaNs\n",
    "    \n",
    "    df[\"Gender\"].fillna(df[\"Gender\"].mode(), inplace = True)\n",
    "    df[\"Married\"].fillna(df[\"Married\"].mode(), inplace = True)\n",
    "    df[\"Dependents\"].fillna('0', inplace = True)\n",
    "    df[\"Self_Employed\"].fillna(df[\"Self_Employed\"].mode(), inplace = True)\n",
    "    df[\"Credit_History\"].fillna(1, inplace = True)\n",
    "    df[\"LoanAmount\"].fillna(df[\"LoanAmount\"].mean(), inplace = True)\n",
    "    df[\"Loan_Amount_Term\"].fillna(df[\"Loan_Amount_Term\"].mode(), inplace = True)\n",
    "    \n",
    "    #Drop all rows with Nan which are not handled in our code\n",
    "    df.dropna()\n",
    "        \n",
    "    #    One Hot Encoding: ['Gender','Married','Dependents','Education','Self_Employed','Property_Area']\n",
    "    \n",
    "    # Send Output Colummn to First location\n",
    "    cols = [df.columns[-1]] + [col for col in df if col != df.columns[-1]]\n",
    "    df = df[cols]\n",
    "    \n",
    "    cat_col = ['Gender','Married','Dependents','Education','Self_Employed','Property_Area']\n",
    "\n",
    "    for i in cat_col:\n",
    "        df1 = pd.get_dummies(df[i],prefix = i, drop_first=True)\n",
    "        df = pd.concat([df,df1], axis = 1)\n",
    "\n",
    "    df.drop(cat_col,axis=1,inplace=True)\n",
    "\n",
    "    \n",
    "    # Send output column to last\n",
    "    cols = [col for col in df if col != df.columns[0]] + [df.columns[0]] \n",
    "    df = df[cols]\n",
    "        \n",
    "    # Labelling Could be merged with One Hot Encoding\n",
    "    df[\"Loan_Status\"].replace('Y',1, inplace = True)\n",
    "    df[\"Loan_Status\"].replace('N',0, inplace = True)\n",
    "    \n",
    "    #    Scaling/Normalizing features : Z-score scaling\n",
    "    cat_col = ['ApplicantIncome','CoapplicantIncome','LoanAmount','Loan_Amount_Term']\n",
    "\n",
    "    for i in cat_col:\n",
    "        df[i]=(df[i]-df[i].mean())/df[i].std()\n",
    "        df.head()\n",
    "    return df;"
   ]
  },
  {
   "cell_type": "code",
   "execution_count": 19,
   "metadata": {},
   "outputs": [
    {
     "data": {
      "text/html": [
       "<div>\n",
       "<style scoped>\n",
       "    .dataframe tbody tr th:only-of-type {\n",
       "        vertical-align: middle;\n",
       "    }\n",
       "\n",
       "    .dataframe tbody tr th {\n",
       "        vertical-align: top;\n",
       "    }\n",
       "\n",
       "    .dataframe thead th {\n",
       "        text-align: right;\n",
       "    }\n",
       "</style>\n",
       "<table border=\"1\" class=\"dataframe\">\n",
       "  <thead>\n",
       "    <tr style=\"text-align: right;\">\n",
       "      <th></th>\n",
       "      <th>Loan_ID</th>\n",
       "      <th>ApplicantIncome</th>\n",
       "      <th>CoapplicantIncome</th>\n",
       "      <th>LoanAmount</th>\n",
       "      <th>Loan_Amount_Term</th>\n",
       "      <th>Credit_History</th>\n",
       "      <th>Gender_Male</th>\n",
       "      <th>Married_Yes</th>\n",
       "      <th>Dependents_1</th>\n",
       "      <th>Dependents_2</th>\n",
       "      <th>Dependents_3+</th>\n",
       "      <th>Education_Not Graduate</th>\n",
       "      <th>Self_Employed_Yes</th>\n",
       "      <th>Property_Area_Semiurban</th>\n",
       "      <th>Property_Area_Urban</th>\n",
       "      <th>Loan_Status</th>\n",
       "    </tr>\n",
       "  </thead>\n",
       "  <tbody>\n",
       "    <tr>\n",
       "      <th>0</th>\n",
       "      <td>LP001002</td>\n",
       "      <td>0.072931</td>\n",
       "      <td>-0.554036</td>\n",
       "      <td>3.382028e-16</td>\n",
       "      <td>0.276411</td>\n",
       "      <td>1.0</td>\n",
       "      <td>1</td>\n",
       "      <td>0</td>\n",
       "      <td>0</td>\n",
       "      <td>0</td>\n",
       "      <td>0</td>\n",
       "      <td>0</td>\n",
       "      <td>0</td>\n",
       "      <td>0</td>\n",
       "      <td>1</td>\n",
       "      <td>1</td>\n",
       "    </tr>\n",
       "    <tr>\n",
       "      <th>1</th>\n",
       "      <td>LP001003</td>\n",
       "      <td>-0.134302</td>\n",
       "      <td>-0.038700</td>\n",
       "      <td>-2.190947e-01</td>\n",
       "      <td>0.276411</td>\n",
       "      <td>1.0</td>\n",
       "      <td>1</td>\n",
       "      <td>1</td>\n",
       "      <td>1</td>\n",
       "      <td>0</td>\n",
       "      <td>0</td>\n",
       "      <td>0</td>\n",
       "      <td>0</td>\n",
       "      <td>0</td>\n",
       "      <td>0</td>\n",
       "      <td>0</td>\n",
       "    </tr>\n",
       "    <tr>\n",
       "      <th>2</th>\n",
       "      <td>LP001005</td>\n",
       "      <td>-0.393427</td>\n",
       "      <td>-0.554036</td>\n",
       "      <td>-9.568608e-01</td>\n",
       "      <td>0.276411</td>\n",
       "      <td>1.0</td>\n",
       "      <td>1</td>\n",
       "      <td>1</td>\n",
       "      <td>0</td>\n",
       "      <td>0</td>\n",
       "      <td>0</td>\n",
       "      <td>0</td>\n",
       "      <td>1</td>\n",
       "      <td>0</td>\n",
       "      <td>1</td>\n",
       "      <td>1</td>\n",
       "    </tr>\n",
       "    <tr>\n",
       "      <th>3</th>\n",
       "      <td>LP001006</td>\n",
       "      <td>-0.461686</td>\n",
       "      <td>0.251774</td>\n",
       "      <td>-3.142903e-01</td>\n",
       "      <td>0.276411</td>\n",
       "      <td>1.0</td>\n",
       "      <td>1</td>\n",
       "      <td>1</td>\n",
       "      <td>0</td>\n",
       "      <td>0</td>\n",
       "      <td>0</td>\n",
       "      <td>1</td>\n",
       "      <td>0</td>\n",
       "      <td>0</td>\n",
       "      <td>1</td>\n",
       "      <td>1</td>\n",
       "    </tr>\n",
       "    <tr>\n",
       "      <th>4</th>\n",
       "      <td>LP001008</td>\n",
       "      <td>0.097649</td>\n",
       "      <td>-0.554036</td>\n",
       "      <td>-6.440178e-02</td>\n",
       "      <td>0.276411</td>\n",
       "      <td>1.0</td>\n",
       "      <td>1</td>\n",
       "      <td>0</td>\n",
       "      <td>0</td>\n",
       "      <td>0</td>\n",
       "      <td>0</td>\n",
       "      <td>0</td>\n",
       "      <td>0</td>\n",
       "      <td>0</td>\n",
       "      <td>1</td>\n",
       "      <td>1</td>\n",
       "    </tr>\n",
       "  </tbody>\n",
       "</table>\n",
       "</div>"
      ],
      "text/plain": [
       "    Loan_ID  ApplicantIncome  CoapplicantIncome    LoanAmount  \\\n",
       "0  LP001002         0.072931          -0.554036  3.382028e-16   \n",
       "1  LP001003        -0.134302          -0.038700 -2.190947e-01   \n",
       "2  LP001005        -0.393427          -0.554036 -9.568608e-01   \n",
       "3  LP001006        -0.461686           0.251774 -3.142903e-01   \n",
       "4  LP001008         0.097649          -0.554036 -6.440178e-02   \n",
       "\n",
       "   Loan_Amount_Term  Credit_History  Gender_Male  Married_Yes  Dependents_1  \\\n",
       "0          0.276411             1.0            1            0             0   \n",
       "1          0.276411             1.0            1            1             1   \n",
       "2          0.276411             1.0            1            1             0   \n",
       "3          0.276411             1.0            1            1             0   \n",
       "4          0.276411             1.0            1            0             0   \n",
       "\n",
       "   Dependents_2  Dependents_3+  Education_Not Graduate  Self_Employed_Yes  \\\n",
       "0             0              0                       0                  0   \n",
       "1             0              0                       0                  0   \n",
       "2             0              0                       0                  1   \n",
       "3             0              0                       1                  0   \n",
       "4             0              0                       0                  0   \n",
       "\n",
       "   Property_Area_Semiurban  Property_Area_Urban  Loan_Status  \n",
       "0                        0                    1            1  \n",
       "1                        0                    0            0  \n",
       "2                        0                    1            1  \n",
       "3                        0                    1            1  \n",
       "4                        0                    1            1  "
      ]
     },
     "execution_count": 19,
     "metadata": {},
     "output_type": "execute_result"
    }
   ],
   "source": [
    "df = df_feature_eng(df)\n",
    "df.head()"
   ]
  },
  {
   "cell_type": "code",
   "execution_count": 11,
   "metadata": {},
   "outputs": [
    {
     "name": "stdout",
     "output_type": "stream",
     "text": [
      "(614, 14) (614,)\n"
     ]
    }
   ],
   "source": [
    "# 1st column is unique identifier\n",
    "X = df.iloc[:,1:len(df.columns)-1]\n",
    "y = df.iloc[:,len(df.columns)-1]\n",
    "print (X.shape,  y.shape)"
   ]
  },
  {
   "cell_type": "code",
   "execution_count": 12,
   "metadata": {},
   "outputs": [
    {
     "name": "stdout",
     "output_type": "stream",
     "text": [
      "Train set: (491, 14) (491,)\n",
      "Test set: (123, 14) (123,)\n"
     ]
    }
   ],
   "source": [
    "#Train Test Split 80/20\n",
    "from sklearn.model_selection import train_test_split\n",
    "X_train, X_test, y_train, y_test = train_test_split( X, y, test_size=0.2, random_state=4)\n",
    "print ('Train set:', X_train.shape,  y_train.shape)\n",
    "print ('Test set:', X_test.shape,  y_test.shape)"
   ]
  },
  {
   "cell_type": "code",
   "execution_count": 24,
   "metadata": {},
   "outputs": [
    {
     "name": "stdout",
     "output_type": "stream",
     "text": [
      "0.001 0.6747967479674797\n",
      "0.01 0.6747967479674797\n",
      "0.1 0.6747967479674797\n",
      "1 0.6747967479674797\n",
      "10 0.6747967479674797\n"
     ]
    }
   ],
   "source": [
    "#Logistic Regression\n",
    "from sklearn.linear_model import LogisticRegression\n",
    "from sklearn.metrics import confusion_matrix\n",
    "from sklearn.metrics import accuracy_score\n",
    "C = [0.001,0.01,0.1,1,10]\n",
    "for c in C:\n",
    "    LR = LogisticRegression(C=0.01, solver='liblinear').fit(X_train,y_train)\n",
    "    yhat = LR.predict(X_test)\n",
    "    #yhat\n",
    "    accuracy = accuracy_score(y_test,yhat)\n",
    "    print (c,\" --> \",accuracy)"
   ]
  },
  {
   "cell_type": "code",
   "execution_count": 25,
   "metadata": {},
   "outputs": [],
   "source": [
    "#Random Forest CLassifier\n",
    "from sklearn.ensemble import RandomForestClassifier\n",
    "rfc = RandomForestClassifier(max_depth = 5,n_estimators=200)\n",
    "rfc.set_params(n_jobs=-1).fit(X_train,y_train)\n",
    "# Use the forest's predict method on the test data\n",
    "predictions = rfc.predict(X_test)"
   ]
  },
  {
   "cell_type": "code",
   "execution_count": 26,
   "metadata": {},
   "outputs": [
    {
     "name": "stdout",
     "output_type": "stream",
     "text": [
      "Mean Absolute Error: 0.33 degrees.\n",
      "Accuracy: 67.48 %.\n"
     ]
    }
   ],
   "source": [
    "# Calculate the absolute errors\n",
    "errors = abs(yhat - y_test)\n",
    "# Print out the mean absolute error (mae)\n",
    "print('Mean Absolute Error:', round(np.mean(errors), 2), 'degrees.')\n",
    "# Calculate mean absolute percentage error (MAPE)\n",
    "mape = 100 * (errors / yhat)\n",
    "# Calculate and display accuracy\n",
    "accuracy = 100 - np.mean(mape)\n",
    "print('Accuracy:', round(accuracy, 2), '%.')"
   ]
  },
  {
   "cell_type": "code",
   "execution_count": null,
   "metadata": {},
   "outputs": [],
   "source": []
  }
 ],
 "metadata": {
  "kernelspec": {
   "display_name": "Python 3",
   "language": "python",
   "name": "python3"
  },
  "language_info": {
   "codemirror_mode": {
    "name": "ipython",
    "version": 3
   },
   "file_extension": ".py",
   "mimetype": "text/x-python",
   "name": "python",
   "nbconvert_exporter": "python",
   "pygments_lexer": "ipython3",
   "version": "3.7.1"
  }
 },
 "nbformat": 4,
 "nbformat_minor": 2
}
